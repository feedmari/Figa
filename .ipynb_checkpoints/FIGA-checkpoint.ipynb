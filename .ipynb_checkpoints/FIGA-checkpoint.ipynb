{
 "cells": [
  {
   "cell_type": "markdown",
   "metadata": {},
   "source": [
    "# Data Analysis \n",
    "\n",
    "\n",
    "This is my first Jupyter Notebook, I'm gooing to analyse the dataset called '**Mountaineering by Sam <3**'."
   ]
  },
  {
   "cell_type": "code",
   "execution_count": 2,
   "metadata": {},
   "outputs": [
    {
     "name": "stdout",
     "output_type": "stream",
     "text": [
      "FIGA.ipynb\n",
      "LICENSE\n",
      "input\n",
      "\n"
     ]
    }
   ],
   "source": [
    "# Libraries\n",
    "import numpy as np\n",
    "import pandas as pd\n",
    "import matplotlib.pyplot as plt\n",
    "import seaborn as sns\n",
    "\n",
    "# Check input data files\n",
    "from subprocess import check_output\n",
    "print(check_output([\"ls\"]).decode(\"utf8\"))\n"
   ]
  },
  {
   "cell_type": "code",
   "execution_count": 4,
   "metadata": {
    "collapsed": true
   },
   "outputs": [],
   "source": [
    "data = pd.read_csv(\"input/test.csv\")"
   ]
  },
  {
   "cell_type": "markdown",
   "metadata": {},
   "source": [
    "Let's take a look at the data"
   ]
  },
  {
   "cell_type": "code",
   "execution_count": 5,
   "metadata": {
    "scrolled": false
   },
   "outputs": [
    {
     "name": "stdout",
     "output_type": "stream",
     "text": [
      "<class 'pandas.core.frame.DataFrame'>\n",
      "RangeIndex: 224 entries, 0 to 223\n",
      "Data columns (total 22 columns):\n",
      "TripName            224 non-null object\n",
      "CreatedAt           224 non-null float64\n",
      "Region              224 non-null object\n",
      "StartingFrom        224 non-null object\n",
      "ElevationGain       224 non-null int64\n",
      "Grade               224 non-null object\n",
      "UphillSide          224 non-null object\n",
      "DownhillSide        224 non-null object\n",
      "MainSnowType        224 non-null object\n",
      "Date                224 non-null float64\n",
      "TripRate            224 non-null object\n",
      "TripDescription     224 non-null object\n",
      "SnowRate            224 non-null object\n",
      "StartingAltitude    224 non-null int64\n",
      "SnowDescription     91 non-null object\n",
      "StartingValley      101 non-null object\n",
      "EndAltitude         224 non-null int64\n",
      "LinkedTrip          107 non-null object\n",
      "OtherSnowType       107 non-null object\n",
      "AvalancheRisk       107 non-null float64\n",
      "Images              67 non-null object\n",
      "User                224 non-null object\n",
      "dtypes: float64(3), int64(3), object(16)\n",
      "memory usage: 38.6+ KB\n"
     ]
    }
   ],
   "source": [
    "data.info()"
   ]
  },
  {
   "cell_type": "code",
   "execution_count": 6,
   "metadata": {
    "scrolled": false
   },
   "outputs": [
    {
     "data": {
      "text/html": [
       "<div>\n",
       "<style scoped>\n",
       "    .dataframe tbody tr th:only-of-type {\n",
       "        vertical-align: middle;\n",
       "    }\n",
       "\n",
       "    .dataframe tbody tr th {\n",
       "        vertical-align: top;\n",
       "    }\n",
       "\n",
       "    .dataframe thead th {\n",
       "        text-align: right;\n",
       "    }\n",
       "</style>\n",
       "<table border=\"1\" class=\"dataframe\">\n",
       "  <thead>\n",
       "    <tr style=\"text-align: right;\">\n",
       "      <th></th>\n",
       "      <th>TripName</th>\n",
       "      <th>CreatedAt</th>\n",
       "      <th>Region</th>\n",
       "      <th>StartingFrom</th>\n",
       "      <th>ElevationGain</th>\n",
       "      <th>Grade</th>\n",
       "      <th>UphillSide</th>\n",
       "      <th>DownhillSide</th>\n",
       "      <th>MainSnowType</th>\n",
       "      <th>Date</th>\n",
       "      <th>...</th>\n",
       "      <th>SnowRate</th>\n",
       "      <th>StartingAltitude</th>\n",
       "      <th>SnowDescription</th>\n",
       "      <th>StartingValley</th>\n",
       "      <th>EndAltitude</th>\n",
       "      <th>LinkedTrip</th>\n",
       "      <th>OtherSnowType</th>\n",
       "      <th>AvalancheRisk</th>\n",
       "      <th>Images</th>\n",
       "      <th>User</th>\n",
       "    </tr>\n",
       "  </thead>\n",
       "  <tbody>\n",
       "    <tr>\n",
       "      <th>0</th>\n",
       "      <td>Finailspitze - Punta di Finale</td>\n",
       "      <td>1.511303e+12</td>\n",
       "      <td>Alto Adige</td>\n",
       "      <td>Kurzras - Maso Corto</td>\n",
       "      <td>1503</td>\n",
       "      <td>BSA</td>\n",
       "      <td>Nord-Ovest</td>\n",
       "      <td>Nord-Ovest</td>\n",
       "      <td>Trasformata</td>\n",
       "      <td>1.494626e+12</td>\n",
       "      <td>...</td>\n",
       "      <td>Buone</td>\n",
       "      <td>2011</td>\n",
       "      <td>Vedi commento sulla gita.\\n\\nConsiderati i 150...</td>\n",
       "      <td>Val Senales</td>\n",
       "      <td>3514</td>\n",
       "      <td>NaN</td>\n",
       "      <td>NaN</td>\n",
       "      <td>NaN</td>\n",
       "      <td>NaN</td>\n",
       "      <td>musso</td>\n",
       "    </tr>\n",
       "    <tr>\n",
       "      <th>1</th>\n",
       "      <td>Infornace per fonte Rionne</td>\n",
       "      <td>1.511303e+12</td>\n",
       "      <td>Abruzzo</td>\n",
       "      <td>Incrocio strada Fonte Vetica - S.Stefano di Se...</td>\n",
       "      <td>900</td>\n",
       "      <td>BSA</td>\n",
       "      <td>Sud-Ovest</td>\n",
       "      <td>Sud-Ovest</td>\n",
       "      <td>Trasformata</td>\n",
       "      <td>1.494713e+12</td>\n",
       "      <td>...</td>\n",
       "      <td>Buone</td>\n",
       "      <td>1587</td>\n",
       "      <td>Trasformata, dura al mattino, buona in discesa...</td>\n",
       "      <td>Campo Imperatore</td>\n",
       "      <td>2487</td>\n",
       "      <td>NaN</td>\n",
       "      <td>NaN</td>\n",
       "      <td>NaN</td>\n",
       "      <td>NaN</td>\n",
       "      <td>lorenzgr</td>\n",
       "    </tr>\n",
       "    <tr>\n",
       "      <th>2</th>\n",
       "      <td>Cavaion 3.120 m</td>\n",
       "      <td>1.511303e+12</td>\n",
       "      <td>Trentino</td>\n",
       "      <td>Rabbi Fonti</td>\n",
       "      <td>1900</td>\n",
       "      <td>BSA</td>\n",
       "      <td>Sud-Est</td>\n",
       "      <td>Sud-Est</td>\n",
       "      <td>Trasformata</td>\n",
       "      <td>1.494713e+12</td>\n",
       "      <td>...</td>\n",
       "      <td>Buone</td>\n",
       "      <td>1200</td>\n",
       "      <td>NaN</td>\n",
       "      <td>val di Rabbi</td>\n",
       "      <td>3100</td>\n",
       "      <td>NaN</td>\n",
       "      <td>NaN</td>\n",
       "      <td>NaN</td>\n",
       "      <td>NaN</td>\n",
       "      <td>Luca G.</td>\n",
       "    </tr>\n",
       "    <tr>\n",
       "      <th>3</th>\n",
       "      <td>Tuckett 3462 m</td>\n",
       "      <td>1.511303e+12</td>\n",
       "      <td>Alto Adige</td>\n",
       "      <td>Franzenshöhe</td>\n",
       "      <td>1300</td>\n",
       "      <td>BS</td>\n",
       "      <td>Nord-Est</td>\n",
       "      <td>Nord-Est</td>\n",
       "      <td>Trasformata</td>\n",
       "      <td>1.494886e+12</td>\n",
       "      <td>...</td>\n",
       "      <td>Buone</td>\n",
       "      <td>2188</td>\n",
       "      <td>NaN</td>\n",
       "      <td>Stelvio</td>\n",
       "      <td>3488</td>\n",
       "      <td>NaN</td>\n",
       "      <td>NaN</td>\n",
       "      <td>NaN</td>\n",
       "      <td>NaN</td>\n",
       "      <td>Ruth, Michela, Mauro e Ermanno</td>\n",
       "    </tr>\n",
       "    <tr>\n",
       "      <th>4</th>\n",
       "      <td>Marmolada</td>\n",
       "      <td>1.511303e+12</td>\n",
       "      <td>Trentino</td>\n",
       "      <td>Lago Fedaia</td>\n",
       "      <td>1650</td>\n",
       "      <td>OSA</td>\n",
       "      <td>Nord</td>\n",
       "      <td>Nord</td>\n",
       "      <td>Trasformata</td>\n",
       "      <td>1.494886e+12</td>\n",
       "      <td>...</td>\n",
       "      <td>Eccellenti</td>\n",
       "      <td>2000</td>\n",
       "      <td>neve portante ma non troppo dura fino da 100 m...</td>\n",
       "      <td>Fassa</td>\n",
       "      <td>3650</td>\n",
       "      <td>NaN</td>\n",
       "      <td>NaN</td>\n",
       "      <td>NaN</td>\n",
       "      <td>NaN</td>\n",
       "      <td>Andrea Bonalda</td>\n",
       "    </tr>\n",
       "  </tbody>\n",
       "</table>\n",
       "<p>5 rows × 22 columns</p>\n",
       "</div>"
      ],
      "text/plain": [
       "                         TripName     CreatedAt      Region  \\\n",
       "0  Finailspitze - Punta di Finale  1.511303e+12  Alto Adige   \n",
       "1      Infornace per fonte Rionne  1.511303e+12     Abruzzo   \n",
       "2                 Cavaion 3.120 m  1.511303e+12    Trentino   \n",
       "3                  Tuckett 3462 m  1.511303e+12  Alto Adige   \n",
       "4                       Marmolada  1.511303e+12    Trentino   \n",
       "\n",
       "                                        StartingFrom  ElevationGain Grade  \\\n",
       "0                               Kurzras - Maso Corto           1503   BSA   \n",
       "1  Incrocio strada Fonte Vetica - S.Stefano di Se...            900   BSA   \n",
       "2                                        Rabbi Fonti           1900   BSA   \n",
       "3                                       Franzenshöhe           1300    BS   \n",
       "4                                        Lago Fedaia           1650   OSA   \n",
       "\n",
       "   UphillSide DownhillSide MainSnowType          Date  \\\n",
       "0  Nord-Ovest   Nord-Ovest  Trasformata  1.494626e+12   \n",
       "1   Sud-Ovest    Sud-Ovest  Trasformata  1.494713e+12   \n",
       "2     Sud-Est      Sud-Est  Trasformata  1.494713e+12   \n",
       "3    Nord-Est     Nord-Est  Trasformata  1.494886e+12   \n",
       "4        Nord         Nord  Trasformata  1.494886e+12   \n",
       "\n",
       "                ...                  SnowRate StartingAltitude  \\\n",
       "0               ...                     Buone             2011   \n",
       "1               ...                     Buone             1587   \n",
       "2               ...                     Buone             1200   \n",
       "3               ...                     Buone             2188   \n",
       "4               ...                Eccellenti             2000   \n",
       "\n",
       "                                     SnowDescription    StartingValley  \\\n",
       "0  Vedi commento sulla gita.\\n\\nConsiderati i 150...       Val Senales   \n",
       "1  Trasformata, dura al mattino, buona in discesa...  Campo Imperatore   \n",
       "2                                                NaN      val di Rabbi   \n",
       "3                                                NaN           Stelvio   \n",
       "4  neve portante ma non troppo dura fino da 100 m...             Fassa   \n",
       "\n",
       "  EndAltitude LinkedTrip  OtherSnowType AvalancheRisk Images  \\\n",
       "0        3514        NaN            NaN           NaN    NaN   \n",
       "1        2487        NaN            NaN           NaN    NaN   \n",
       "2        3100        NaN            NaN           NaN    NaN   \n",
       "3        3488        NaN            NaN           NaN    NaN   \n",
       "4        3650        NaN            NaN           NaN    NaN   \n",
       "\n",
       "                             User  \n",
       "0                           musso  \n",
       "1                        lorenzgr  \n",
       "2                         Luca G.  \n",
       "3  Ruth, Michela, Mauro e Ermanno  \n",
       "4                  Andrea Bonalda  \n",
       "\n",
       "[5 rows x 22 columns]"
      ]
     },
     "execution_count": 6,
     "metadata": {},
     "output_type": "execute_result"
    }
   ],
   "source": [
    "data.head()"
   ]
  },
  {
   "cell_type": "code",
   "execution_count": 7,
   "metadata": {},
   "outputs": [
    {
     "name": "stdout",
     "output_type": "stream",
     "text": [
      "['TripName', 'CreatedAt', 'Region', 'StartingFrom', 'ElevationGain', 'Grade', 'UphillSide', 'DownhillSide', 'MainSnowType', 'Date', 'TripRate', 'TripDescription', 'SnowRate', 'StartingAltitude', 'SnowDescription', 'StartingValley', 'EndAltitude', 'LinkedTrip', 'OtherSnowType', 'AvalancheRisk', 'Images', 'User']\n"
     ]
    }
   ],
   "source": [
    "# columns gives column names of features\n",
    "print(data.columns.tolist())"
   ]
  },
  {
   "cell_type": "code",
   "execution_count": 8,
   "metadata": {},
   "outputs": [
    {
     "data": {
      "text/plain": [
       "(224, 22)"
      ]
     },
     "execution_count": 8,
     "metadata": {},
     "output_type": "execute_result"
    }
   ],
   "source": [
    "# shape gives number of rows and columns in a tuble\n",
    "data.shape"
   ]
  },
  {
   "cell_type": "markdown",
   "metadata": {},
   "source": [
    "**STATISTICAL EXPLORATORY DATA ANALYSIS**\n",
    "\n",
    "count: number of entries\n",
    "mean: average of entries\n",
    "std: standart deviation\n",
    "min: minimum entry\n",
    "25%: first quantile\n",
    "50%: median or second quantile\n",
    "75%: third quantile\n",
    "max: maximum entry"
   ]
  },
  {
   "cell_type": "code",
   "execution_count": 9,
   "metadata": {
    "scrolled": false
   },
   "outputs": [
    {
     "data": {
      "text/html": [
       "<div>\n",
       "<style scoped>\n",
       "    .dataframe tbody tr th:only-of-type {\n",
       "        vertical-align: middle;\n",
       "    }\n",
       "\n",
       "    .dataframe tbody tr th {\n",
       "        vertical-align: top;\n",
       "    }\n",
       "\n",
       "    .dataframe thead th {\n",
       "        text-align: right;\n",
       "    }\n",
       "</style>\n",
       "<table border=\"1\" class=\"dataframe\">\n",
       "  <thead>\n",
       "    <tr style=\"text-align: right;\">\n",
       "      <th></th>\n",
       "      <th>CreatedAt</th>\n",
       "      <th>ElevationGain</th>\n",
       "      <th>Date</th>\n",
       "      <th>StartingAltitude</th>\n",
       "      <th>EndAltitude</th>\n",
       "      <th>AvalancheRisk</th>\n",
       "    </tr>\n",
       "  </thead>\n",
       "  <tbody>\n",
       "    <tr>\n",
       "      <th>count</th>\n",
       "      <td>2.240000e+02</td>\n",
       "      <td>224.000000</td>\n",
       "      <td>2.240000e+02</td>\n",
       "      <td>224.000000</td>\n",
       "      <td>224.000000</td>\n",
       "      <td>107.000000</td>\n",
       "    </tr>\n",
       "    <tr>\n",
       "      <th>mean</th>\n",
       "      <td>1.511357e+12</td>\n",
       "      <td>1439.651786</td>\n",
       "      <td>1.502919e+12</td>\n",
       "      <td>1699.919643</td>\n",
       "      <td>3139.571429</td>\n",
       "      <td>1.401869</td>\n",
       "    </tr>\n",
       "    <tr>\n",
       "      <th>std</th>\n",
       "      <td>1.467804e+08</td>\n",
       "      <td>666.851255</td>\n",
       "      <td>7.470703e+09</td>\n",
       "      <td>575.159851</td>\n",
       "      <td>662.376205</td>\n",
       "      <td>0.492583</td>\n",
       "    </tr>\n",
       "    <tr>\n",
       "      <th>min</th>\n",
       "      <td>1.511303e+12</td>\n",
       "      <td>440.000000</td>\n",
       "      <td>1.494626e+12</td>\n",
       "      <td>-1688.000000</td>\n",
       "      <td>212.000000</td>\n",
       "      <td>1.000000</td>\n",
       "    </tr>\n",
       "    <tr>\n",
       "      <th>25%</th>\n",
       "      <td>1.511303e+12</td>\n",
       "      <td>965.000000</td>\n",
       "      <td>1.495836e+12</td>\n",
       "      <td>1462.750000</td>\n",
       "      <td>2600.000000</td>\n",
       "      <td>1.000000</td>\n",
       "    </tr>\n",
       "    <tr>\n",
       "      <th>50%</th>\n",
       "      <td>1.511303e+12</td>\n",
       "      <td>1280.000000</td>\n",
       "      <td>1.497132e+12</td>\n",
       "      <td>1766.000000</td>\n",
       "      <td>3141.500000</td>\n",
       "      <td>1.000000</td>\n",
       "    </tr>\n",
       "    <tr>\n",
       "      <th>75%</th>\n",
       "      <td>1.511303e+12</td>\n",
       "      <td>1708.250000</td>\n",
       "      <td>1.510873e+12</td>\n",
       "      <td>2000.750000</td>\n",
       "      <td>3565.000000</td>\n",
       "      <td>2.000000</td>\n",
       "    </tr>\n",
       "    <tr>\n",
       "      <th>max</th>\n",
       "      <td>1.511991e+12</td>\n",
       "      <td>4300.000000</td>\n",
       "      <td>1.511914e+12</td>\n",
       "      <td>3270.000000</td>\n",
       "      <td>4900.000000</td>\n",
       "      <td>2.000000</td>\n",
       "    </tr>\n",
       "  </tbody>\n",
       "</table>\n",
       "</div>"
      ],
      "text/plain": [
       "          CreatedAt  ElevationGain          Date  StartingAltitude  \\\n",
       "count  2.240000e+02     224.000000  2.240000e+02        224.000000   \n",
       "mean   1.511357e+12    1439.651786  1.502919e+12       1699.919643   \n",
       "std    1.467804e+08     666.851255  7.470703e+09        575.159851   \n",
       "min    1.511303e+12     440.000000  1.494626e+12      -1688.000000   \n",
       "25%    1.511303e+12     965.000000  1.495836e+12       1462.750000   \n",
       "50%    1.511303e+12    1280.000000  1.497132e+12       1766.000000   \n",
       "75%    1.511303e+12    1708.250000  1.510873e+12       2000.750000   \n",
       "max    1.511991e+12    4300.000000  1.511914e+12       3270.000000   \n",
       "\n",
       "       EndAltitude  AvalancheRisk  \n",
       "count   224.000000     107.000000  \n",
       "mean   3139.571429       1.401869  \n",
       "std     662.376205       0.492583  \n",
       "min     212.000000       1.000000  \n",
       "25%    2600.000000       1.000000  \n",
       "50%    3141.500000       1.000000  \n",
       "75%    3565.000000       2.000000  \n",
       "max    4900.000000       2.000000  "
      ]
     },
     "execution_count": 9,
     "metadata": {},
     "output_type": "execute_result"
    }
   ],
   "source": [
    "data.describe() #ignore null entries"
   ]
  },
  {
   "cell_type": "markdown",
   "metadata": {},
   "source": [
    "Lets take a look at some frequencies"
   ]
  },
  {
   "cell_type": "code",
   "execution_count": 10,
   "metadata": {},
   "outputs": [
    {
     "name": "stdout",
     "output_type": "stream",
     "text": [
      "Lombardia                52\n",
      "Svizzera                 45\n",
      "Trentino                 33\n",
      "Alto Adige               28\n",
      "Veneto                   22\n",
      "Abruzzo                  13\n",
      "Emilia Romagna           10\n",
      "Valle d'Aosta             9\n",
      "Francia                   6\n",
      "Austria                   3\n",
      "Piemonte                  2\n",
      "Friuli Venezia Giulia     1\n",
      "Name: Region, dtype: int64\n"
     ]
    }
   ],
   "source": [
    "# Regions frequencies\n",
    "print(data['Region'].value_counts(dropna =False))  # if there are nan values that also be counted"
   ]
  },
  {
   "cell_type": "code",
   "execution_count": 11,
   "metadata": {},
   "outputs": [
    {
     "name": "stdout",
     "output_type": "stream",
     "text": [
      "Passo dello Stelvio  (2760 m)    5\n",
      "Malga Ciapela                    3\n",
      "Montespluga  (1908 m)            3\n",
      "Misurina                         3\n",
      "Passo Tonale  (1800 m)           2\n",
      "Name: StartingFrom, dtype: int64\n"
     ]
    }
   ],
   "source": [
    "# Starting Point frequencies\n",
    "print(data['StartingFrom'].value_counts(dropna =False)).head()"
   ]
  },
  {
   "cell_type": "code",
   "execution_count": 12,
   "metadata": {},
   "outputs": [
    {
     "name": "stdout",
     "output_type": "stream",
     "text": [
      "NaN                 123\n",
      "Campo Imperatore      5\n",
      "Stelvio               4\n",
      "Val Passiria          2\n",
      "val di Rabbi          2\n",
      "Name: StartingValley, dtype: int64\n"
     ]
    }
   ],
   "source": [
    "# Starting valley frequencies\n",
    "print(data['StartingValley'].value_counts(dropna =False)).head()\n",
    "\n",
    "# Too many NaN there"
   ]
  },
  {
   "cell_type": "code",
   "execution_count": 46,
   "metadata": {
    "scrolled": true
   },
   "outputs": [
    {
     "data": {
      "text/plain": [
       "mmalanc              11\n",
       "offtrack 65           6\n",
       "BATTAGLIA             6\n",
       "dario1985             5\n",
       "Fabrizio Righetti     5\n",
       "Name: User, dtype: int64"
      ]
     },
     "execution_count": 46,
     "metadata": {},
     "output_type": "execute_result"
    }
   ],
   "source": [
    "# User frequencies\n",
    "users=data['User'].value_counts(dropna =False)\n",
    "users.head()"
   ]
  },
  {
   "cell_type": "code",
   "execution_count": 34,
   "metadata": {},
   "outputs": [
    {
     "name": "stdout",
     "output_type": "stream",
     "text": [
      "Buone          108\n",
      "Eccellenti      40\n",
      "Ottime          32\n",
      "Accettabili     22\n",
      "Discrete        12\n",
      "Pessime          7\n",
      "Mediocri         3\n",
      "Name: SnowRate, dtype: int64\n"
     ]
    }
   ],
   "source": [
    "# Checking validity user ratings\n",
    "print(data['SnowRate'].value_counts(dropna =False))\n"
   ]
  },
  {
   "cell_type": "code",
   "execution_count": 35,
   "metadata": {},
   "outputs": [
    {
     "data": {
      "text/html": [
       "<div>\n",
       "<style scoped>\n",
       "    .dataframe tbody tr th:only-of-type {\n",
       "        vertical-align: middle;\n",
       "    }\n",
       "\n",
       "    .dataframe tbody tr th {\n",
       "        vertical-align: top;\n",
       "    }\n",
       "\n",
       "    .dataframe thead th {\n",
       "        text-align: right;\n",
       "    }\n",
       "</style>\n",
       "<table border=\"1\" class=\"dataframe\">\n",
       "  <thead>\n",
       "    <tr style=\"text-align: right;\">\n",
       "      <th></th>\n",
       "      <th>StartingFrom</th>\n",
       "      <th>variable</th>\n",
       "      <th>value</th>\n",
       "    </tr>\n",
       "  </thead>\n",
       "  <tbody>\n",
       "    <tr>\n",
       "      <th>0</th>\n",
       "      <td>Kurzras - Maso Corto</td>\n",
       "      <td>StartingAltitude</td>\n",
       "      <td>2011</td>\n",
       "    </tr>\n",
       "    <tr>\n",
       "      <th>1</th>\n",
       "      <td>Incrocio strada Fonte Vetica - S.Stefano di Se...</td>\n",
       "      <td>StartingAltitude</td>\n",
       "      <td>1587</td>\n",
       "    </tr>\n",
       "    <tr>\n",
       "      <th>2</th>\n",
       "      <td>Rabbi Fonti</td>\n",
       "      <td>StartingAltitude</td>\n",
       "      <td>1200</td>\n",
       "    </tr>\n",
       "    <tr>\n",
       "      <th>3</th>\n",
       "      <td>Franzenshöhe</td>\n",
       "      <td>StartingAltitude</td>\n",
       "      <td>2188</td>\n",
       "    </tr>\n",
       "    <tr>\n",
       "      <th>4</th>\n",
       "      <td>Lago Fedaia</td>\n",
       "      <td>StartingAltitude</td>\n",
       "      <td>2000</td>\n",
       "    </tr>\n",
       "  </tbody>\n",
       "</table>\n",
       "</div>"
      ],
      "text/plain": [
       "                                        StartingFrom          variable  value\n",
       "0                               Kurzras - Maso Corto  StartingAltitude   2011\n",
       "1  Incrocio strada Fonte Vetica - S.Stefano di Se...  StartingAltitude   1587\n",
       "2                                        Rabbi Fonti  StartingAltitude   1200\n",
       "3                                       Franzenshöhe  StartingAltitude   2188\n",
       "4                                        Lago Fedaia  StartingAltitude   2000"
      ]
     },
     "execution_count": 35,
     "metadata": {},
     "output_type": "execute_result"
    }
   ],
   "source": [
    "# Lets melt something (Just a test)\n",
    "melted = pd.melt(frame=data, id_vars = 'StartingFrom', value_vars= ['StartingAltitude'])\n",
    "melted.head()\n",
    "\n"
   ]
  },
  {
   "cell_type": "code",
   "execution_count": 36,
   "metadata": {
    "collapsed": true
   },
   "outputs": [],
   "source": [
    "assert  data['Region'].notnull().all() # If ok won't print nothing"
   ]
  },
  {
   "cell_type": "code",
   "execution_count": 37,
   "metadata": {
    "collapsed": true
   },
   "outputs": [],
   "source": [
    "assert  data['StartingFrom'].notnull().all() "
   ]
  },
  {
   "cell_type": "code",
   "execution_count": 38,
   "metadata": {
    "collapsed": true
   },
   "outputs": [],
   "source": [
    "assert  data['StartingAltitude'].notnull().all() "
   ]
  },
  {
   "cell_type": "code",
   "execution_count": 39,
   "metadata": {},
   "outputs": [
    {
     "data": {
      "text/plain": [
       "count           224\n",
       "unique           12\n",
       "top       Lombardia\n",
       "freq             52\n",
       "Name: Region, dtype: object"
      ]
     },
     "execution_count": 39,
     "metadata": {},
     "output_type": "execute_result"
    }
   ],
   "source": [
    "data['Region'].describe()\n"
   ]
  },
  {
   "cell_type": "code",
   "execution_count": 48,
   "metadata": {},
   "outputs": [
    {
     "data": {
      "text/plain": [
       "count         224\n",
       "unique        144\n",
       "top       mmalanc\n",
       "freq           11\n",
       "Name: User, dtype: object"
      ]
     },
     "execution_count": 48,
     "metadata": {},
     "output_type": "execute_result"
    }
   ],
   "source": [
    "data['User'].describe()\n",
    "\n"
   ]
  },
  {
   "cell_type": "code",
   "execution_count": 49,
   "metadata": {},
   "outputs": [
    {
     "data": {
      "text/plain": [
       "count                               224\n",
       "unique                              205\n",
       "top       Passo dello Stelvio  (2760 m)\n",
       "freq                                  5\n",
       "Name: StartingFrom, dtype: object"
      ]
     },
     "execution_count": 49,
     "metadata": {},
     "output_type": "execute_result"
    }
   ],
   "source": [
    "data['StartingFrom'].describe()"
   ]
  },
  {
   "cell_type": "markdown",
   "metadata": {},
   "source": [
    "Let's take a look at the most active user"
   ]
  },
  {
   "cell_type": "code",
   "execution_count": 51,
   "metadata": {},
   "outputs": [
    {
     "data": {
      "text/html": [
       "<div>\n",
       "<style scoped>\n",
       "    .dataframe tbody tr th:only-of-type {\n",
       "        vertical-align: middle;\n",
       "    }\n",
       "\n",
       "    .dataframe tbody tr th {\n",
       "        vertical-align: top;\n",
       "    }\n",
       "\n",
       "    .dataframe thead th {\n",
       "        text-align: right;\n",
       "    }\n",
       "</style>\n",
       "<table border=\"1\" class=\"dataframe\">\n",
       "  <thead>\n",
       "    <tr style=\"text-align: right;\">\n",
       "      <th></th>\n",
       "      <th>TripName</th>\n",
       "      <th>CreatedAt</th>\n",
       "      <th>Region</th>\n",
       "      <th>StartingFrom</th>\n",
       "      <th>ElevationGain</th>\n",
       "      <th>Grade</th>\n",
       "      <th>UphillSide</th>\n",
       "      <th>DownhillSide</th>\n",
       "      <th>MainSnowType</th>\n",
       "      <th>Date</th>\n",
       "      <th>...</th>\n",
       "      <th>SnowRate</th>\n",
       "      <th>StartingAltitude</th>\n",
       "      <th>SnowDescription</th>\n",
       "      <th>StartingValley</th>\n",
       "      <th>EndAltitude</th>\n",
       "      <th>LinkedTrip</th>\n",
       "      <th>OtherSnowType</th>\n",
       "      <th>AvalancheRisk</th>\n",
       "      <th>Images</th>\n",
       "      <th>User</th>\n",
       "    </tr>\n",
       "  </thead>\n",
       "  <tbody>\n",
       "    <tr>\n",
       "      <th>125</th>\n",
       "      <td>Gran Paradiso</td>\n",
       "      <td>1.511303e+12</td>\n",
       "      <td>Valle d'Aosta</td>\n",
       "      <td>Pont  (1970 m)</td>\n",
       "      <td>2300</td>\n",
       "      <td>BS</td>\n",
       "      <td>Nord-Ovest</td>\n",
       "      <td>Nord-Ovest</td>\n",
       "      <td>Trasformata</td>\n",
       "      <td>1.496182e+12</td>\n",
       "      <td>...</td>\n",
       "      <td>Ottime</td>\n",
       "      <td>1761</td>\n",
       "      <td>NaN</td>\n",
       "      <td>NaN</td>\n",
       "      <td>4061</td>\n",
       "      <td>nessuno</td>\n",
       "      <td>Trasformata</td>\n",
       "      <td>1.0</td>\n",
       "      <td>NaN</td>\n",
       "      <td>mmalanc</td>\n",
       "    </tr>\n",
       "    <tr>\n",
       "      <th>126</th>\n",
       "      <td>Cime di Campo, Cima Campana e Cima di Medaccio...</td>\n",
       "      <td>1.511303e+12</td>\n",
       "      <td>Lombardia</td>\n",
       "      <td>passo dello Stelvio  (2758 m)</td>\n",
       "      <td>2400</td>\n",
       "      <td>OSA</td>\n",
       "      <td>Varia</td>\n",
       "      <td>Varia</td>\n",
       "      <td>Trasformata</td>\n",
       "      <td>1.495922e+12</td>\n",
       "      <td>...</td>\n",
       "      <td>Ottime</td>\n",
       "      <td>1011</td>\n",
       "      <td>NaN</td>\n",
       "      <td>NaN</td>\n",
       "      <td>3411</td>\n",
       "      <td>nessuno</td>\n",
       "      <td>Trasformata</td>\n",
       "      <td>1.0</td>\n",
       "      <td>NaN</td>\n",
       "      <td>mmalanc</td>\n",
       "    </tr>\n",
       "    <tr>\n",
       "      <th>144</th>\n",
       "      <td>San Matteo, Mantello</td>\n",
       "      <td>1.511303e+12</td>\n",
       "      <td>Lombardia</td>\n",
       "      <td>rifugio Berni  (2459 m)</td>\n",
       "      <td>3468</td>\n",
       "      <td>BSA</td>\n",
       "      <td>Varia</td>\n",
       "      <td>Varia</td>\n",
       "      <td>Farinosa</td>\n",
       "      <td>1.496873e+12</td>\n",
       "      <td>...</td>\n",
       "      <td>Ottime</td>\n",
       "      <td>210</td>\n",
       "      <td>NaN</td>\n",
       "      <td>NaN</td>\n",
       "      <td>3678</td>\n",
       "      <td>nessuno</td>\n",
       "      <td>Trasformata</td>\n",
       "      <td>1.0</td>\n",
       "      <td>NaN</td>\n",
       "      <td>mmalanc</td>\n",
       "    </tr>\n",
       "    <tr>\n",
       "      <th>146</th>\n",
       "      <td>San Matteo (da vedretta val piana) e Dosegù</td>\n",
       "      <td>1.511303e+12</td>\n",
       "      <td>Lombardia</td>\n",
       "      <td>Forni  (2559 m)</td>\n",
       "      <td>3068</td>\n",
       "      <td>BSA</td>\n",
       "      <td>Varia</td>\n",
       "      <td>Varia</td>\n",
       "      <td>Trasformata</td>\n",
       "      <td>1.497046e+12</td>\n",
       "      <td>...</td>\n",
       "      <td>Buone</td>\n",
       "      <td>610</td>\n",
       "      <td>NaN</td>\n",
       "      <td>NaN</td>\n",
       "      <td>3678</td>\n",
       "      <td>nessuno</td>\n",
       "      <td>Trasformata</td>\n",
       "      <td>1.0</td>\n",
       "      <td>NaN</td>\n",
       "      <td>mmalanc</td>\n",
       "    </tr>\n",
       "    <tr>\n",
       "      <th>155</th>\n",
       "      <td>Tucket, Cime di Campo, Piccola cima di Campana...</td>\n",
       "      <td>1.511303e+12</td>\n",
       "      <td>Lombardia</td>\n",
       "      <td>Passo dello Stelvio  (2760 m)</td>\n",
       "      <td>3100</td>\n",
       "      <td>BSA</td>\n",
       "      <td>Varia</td>\n",
       "      <td>Varia</td>\n",
       "      <td>Trasformata</td>\n",
       "      <td>1.497650e+12</td>\n",
       "      <td>...</td>\n",
       "      <td>Ottime</td>\n",
       "      <td>369</td>\n",
       "      <td>NaN</td>\n",
       "      <td>NaN</td>\n",
       "      <td>3469</td>\n",
       "      <td>nessuno</td>\n",
       "      <td>Trasformata</td>\n",
       "      <td>1.0</td>\n",
       "      <td>NaN</td>\n",
       "      <td>mmalanc</td>\n",
       "    </tr>\n",
       "  </tbody>\n",
       "</table>\n",
       "<p>5 rows × 22 columns</p>\n",
       "</div>"
      ],
      "text/plain": [
       "                                              TripName     CreatedAt  \\\n",
       "125                                      Gran Paradiso  1.511303e+12   \n",
       "126  Cime di Campo, Cima Campana e Cima di Medaccio...  1.511303e+12   \n",
       "144                               San Matteo, Mantello  1.511303e+12   \n",
       "146        San Matteo (da vedretta val piana) e Dosegù  1.511303e+12   \n",
       "155  Tucket, Cime di Campo, Piccola cima di Campana...  1.511303e+12   \n",
       "\n",
       "            Region                   StartingFrom  ElevationGain Grade  \\\n",
       "125  Valle d'Aosta                 Pont  (1970 m)           2300    BS   \n",
       "126      Lombardia  passo dello Stelvio  (2758 m)           2400   OSA   \n",
       "144      Lombardia        rifugio Berni  (2459 m)           3468   BSA   \n",
       "146      Lombardia                Forni  (2559 m)           3068   BSA   \n",
       "155      Lombardia  Passo dello Stelvio  (2760 m)           3100   BSA   \n",
       "\n",
       "     UphillSide DownhillSide MainSnowType          Date   ...    SnowRate  \\\n",
       "125  Nord-Ovest   Nord-Ovest  Trasformata  1.496182e+12   ...      Ottime   \n",
       "126       Varia        Varia  Trasformata  1.495922e+12   ...      Ottime   \n",
       "144       Varia        Varia     Farinosa  1.496873e+12   ...      Ottime   \n",
       "146       Varia        Varia  Trasformata  1.497046e+12   ...       Buone   \n",
       "155       Varia        Varia  Trasformata  1.497650e+12   ...      Ottime   \n",
       "\n",
       "    StartingAltitude SnowDescription  StartingValley EndAltitude LinkedTrip  \\\n",
       "125             1761             NaN             NaN        4061    nessuno   \n",
       "126             1011             NaN             NaN        3411    nessuno   \n",
       "144              210             NaN             NaN        3678    nessuno   \n",
       "146              610             NaN             NaN        3678    nessuno   \n",
       "155              369             NaN             NaN        3469    nessuno   \n",
       "\n",
       "     OtherSnowType AvalancheRisk Images     User  \n",
       "125    Trasformata           1.0    NaN  mmalanc  \n",
       "126    Trasformata           1.0    NaN  mmalanc  \n",
       "144    Trasformata           1.0    NaN  mmalanc  \n",
       "146    Trasformata           1.0    NaN  mmalanc  \n",
       "155    Trasformata           1.0    NaN  mmalanc  \n",
       "\n",
       "[5 rows x 22 columns]"
      ]
     },
     "execution_count": 51,
     "metadata": {},
     "output_type": "execute_result"
    }
   ],
   "source": [
    "data.loc[data[\"User\"]=='mmalanc'].head()\n"
   ]
  },
  {
   "cell_type": "code",
   "execution_count": 43,
   "metadata": {},
   "outputs": [
    {
     "data": {
      "text/plain": [
       "count     224.000000\n",
       "mean     1439.651786\n",
       "std       666.851255\n",
       "min       440.000000\n",
       "25%       965.000000\n",
       "50%      1280.000000\n",
       "75%      1708.250000\n",
       "max      4300.000000\n",
       "Name: ElevationGain, dtype: float64"
      ]
     },
     "execution_count": 43,
     "metadata": {},
     "output_type": "execute_result"
    }
   ],
   "source": [
    "data['ElevationGain'].describe()"
   ]
  },
  {
   "cell_type": "markdown",
   "metadata": {},
   "source": [
    "### 4. Missing data\n",
    "Important questions when thinking about missing data:\n",
    "\n",
    "How prevalent is the missing data?\n",
    "Is missing data random or does it have a pattern?\n",
    "\n",
    "The answer to these questions is important for practical reasons because missing data can imply a reduction of the sample size. This can prevent us from proceeding with the analysis. Moreover, from a substantive perspective, we need to ensure that the missing data process is not biased and hidding an inconvenient truth."
   ]
  },
  {
   "cell_type": "code",
   "execution_count": 23,
   "metadata": {},
   "outputs": [
    {
     "data": {
      "text/html": [
       "<div>\n",
       "<style scoped>\n",
       "    .dataframe tbody tr th:only-of-type {\n",
       "        vertical-align: middle;\n",
       "    }\n",
       "\n",
       "    .dataframe tbody tr th {\n",
       "        vertical-align: top;\n",
       "    }\n",
       "\n",
       "    .dataframe thead th {\n",
       "        text-align: right;\n",
       "    }\n",
       "</style>\n",
       "<table border=\"1\" class=\"dataframe\">\n",
       "  <thead>\n",
       "    <tr style=\"text-align: right;\">\n",
       "      <th></th>\n",
       "      <th>Total</th>\n",
       "      <th>Percent</th>\n",
       "    </tr>\n",
       "  </thead>\n",
       "  <tbody>\n",
       "    <tr>\n",
       "      <th>Images</th>\n",
       "      <td>157</td>\n",
       "      <td>0.700893</td>\n",
       "    </tr>\n",
       "    <tr>\n",
       "      <th>SnowDescription</th>\n",
       "      <td>133</td>\n",
       "      <td>0.593750</td>\n",
       "    </tr>\n",
       "    <tr>\n",
       "      <th>StartingValley</th>\n",
       "      <td>123</td>\n",
       "      <td>0.549107</td>\n",
       "    </tr>\n",
       "    <tr>\n",
       "      <th>AvalancheRisk</th>\n",
       "      <td>117</td>\n",
       "      <td>0.522321</td>\n",
       "    </tr>\n",
       "    <tr>\n",
       "      <th>OtherSnowType</th>\n",
       "      <td>117</td>\n",
       "      <td>0.522321</td>\n",
       "    </tr>\n",
       "    <tr>\n",
       "      <th>LinkedTrip</th>\n",
       "      <td>117</td>\n",
       "      <td>0.522321</td>\n",
       "    </tr>\n",
       "    <tr>\n",
       "      <th>User</th>\n",
       "      <td>0</td>\n",
       "      <td>0.000000</td>\n",
       "    </tr>\n",
       "    <tr>\n",
       "      <th>DownhillSide</th>\n",
       "      <td>0</td>\n",
       "      <td>0.000000</td>\n",
       "    </tr>\n",
       "    <tr>\n",
       "      <th>CreatedAt</th>\n",
       "      <td>0</td>\n",
       "      <td>0.000000</td>\n",
       "    </tr>\n",
       "    <tr>\n",
       "      <th>Region</th>\n",
       "      <td>0</td>\n",
       "      <td>0.000000</td>\n",
       "    </tr>\n",
       "  </tbody>\n",
       "</table>\n",
       "</div>"
      ],
      "text/plain": [
       "                 Total   Percent\n",
       "Images             157  0.700893\n",
       "SnowDescription    133  0.593750\n",
       "StartingValley     123  0.549107\n",
       "AvalancheRisk      117  0.522321\n",
       "OtherSnowType      117  0.522321\n",
       "LinkedTrip         117  0.522321\n",
       "User                 0  0.000000\n",
       "DownhillSide         0  0.000000\n",
       "CreatedAt            0  0.000000\n",
       "Region               0  0.000000"
      ]
     },
     "execution_count": 23,
     "metadata": {},
     "output_type": "execute_result"
    }
   ],
   "source": [
    "#missing data \n",
    "total = data.isnull().sum().sort_values(ascending=False)\n",
    "percent = (data.isnull().sum()/data.isnull().count()).sort_values(ascending=False)\n",
    "missing_data = pd.concat([total, percent], axis=1, keys=['Total', 'Percent'])\n",
    "missing_data.head(10)"
   ]
  },
  {
   "cell_type": "code",
   "execution_count": 31,
   "metadata": {
    "collapsed": true
   },
   "outputs": [],
   "source": []
  },
  {
   "cell_type": "code",
   "execution_count": null,
   "metadata": {
    "collapsed": true
   },
   "outputs": [],
   "source": []
  },
  {
   "cell_type": "code",
   "execution_count": null,
   "metadata": {
    "collapsed": true
   },
   "outputs": [],
   "source": []
  }
 ],
 "metadata": {
  "kernelspec": {
   "display_name": "Python 2",
   "language": "python",
   "name": "python2"
  },
  "language_info": {
   "codemirror_mode": {
    "name": "ipython",
    "version": 2
   },
   "file_extension": ".py",
   "mimetype": "text/x-python",
   "name": "python",
   "nbconvert_exporter": "python",
   "pygments_lexer": "ipython2",
   "version": "2.7.14"
  }
 },
 "nbformat": 4,
 "nbformat_minor": 2
}
